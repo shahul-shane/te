{
  "cells": [
    {
      "cell_type": "markdown",
      "metadata": {
        "id": "view-in-github",
        "colab_type": "text"
      },
      "source": [
        "<a href=\"https://colab.research.google.com/github/kareemullah123456789/1112232/blob/master/Section_2_Resilient_Distributed_Datasets_Transformations.ipynb\" target=\"_parent\"><img src=\"https://colab.research.google.com/assets/colab-badge.svg\" alt=\"Open In Colab\"/></a>"
      ]
    },
    {
      "cell_type": "markdown",
      "metadata": {
        "id": "lJ8Bd5PhaRXs"
      },
      "source": [
        "# Learning PySpark\n",
        "### Video series\n",
        "\n",
        "### Packt Publishing\n",
        "\n",
        "**Author**: Tomasz Drabas\n",
        "**Date**:   2017-12-10\n",
        "\n",
        "\n",
        "\n",
        "\n",
        "\n",
        "# Section 2: Resilient Distributed Datasets - Transformations\n",
        "\n",
        "In this section we will look at the Resilient Distributed Datasets (RDDs) and the transformations available."
      ]
    },
    {
      "cell_type": "markdown",
      "metadata": {
        "id": "7DirJs4raRX3"
      },
      "source": [
        "## Creating RDDs\n",
        "### Parallelize a collection\n",
        "#### 1000 random numbers"
      ]
    },
    {
      "cell_type": "code",
      "source": [
        "!pip install pyspark --quiet\n",
        "!pip install pyngrok"
      ],
      "metadata": {
        "colab": {
          "base_uri": "https://localhost:8080/"
        },
        "id": "zVmSy86daZqT",
        "outputId": "f3315ed7-9335-4c27-d103-e0a285f7ce6d"
      },
      "execution_count": 1,
      "outputs": [
        {
          "output_type": "stream",
          "name": "stdout",
          "text": [
            "\u001b[2K     \u001b[90m━━━━━━━━━━━━━━━━━━━━━━━━━━━━━━━━━━━━━━━━\u001b[0m \u001b[32m317.3/317.3 MB\u001b[0m \u001b[31m3.7 MB/s\u001b[0m eta \u001b[36m0:00:00\u001b[0m\n",
            "\u001b[?25h  Preparing metadata (setup.py) ... \u001b[?25l\u001b[?25hdone\n",
            "  Building wheel for pyspark (setup.py) ... \u001b[?25l\u001b[?25hdone\n",
            "Collecting pyngrok\n",
            "  Downloading pyngrok-7.2.0-py3-none-any.whl.metadata (7.4 kB)\n",
            "Requirement already satisfied: PyYAML>=5.1 in /usr/local/lib/python3.10/dist-packages (from pyngrok) (6.0.2)\n",
            "Downloading pyngrok-7.2.0-py3-none-any.whl (22 kB)\n",
            "Installing collected packages: pyngrok\n",
            "Successfully installed pyngrok-7.2.0\n"
          ]
        }
      ]
    },
    {
      "cell_type": "code",
      "source": [
        "spark.stop()"
      ],
      "metadata": {
        "id": "tJS3MHalbYIT"
      },
      "execution_count": null,
      "outputs": []
    },
    {
      "cell_type": "code",
      "source": [
        "\n",
        "\n",
        "# If a SparkContext is running, stop it\n",
        "if 'sc' in locals():\n",
        "    sc.stop()\n"
      ],
      "metadata": {
        "id": "Jg3VxC7Cdw8A"
      },
      "execution_count": null,
      "outputs": []
    },
    {
      "cell_type": "code",
      "source": [
        "from pyngrok import ngrok\n",
        "\n",
        "# Replace \"your_auth_token\" with your actual ngrok token\n",
        "ngrok.set_auth_token(\"2mn3JmxhS2Tva5L5LPlVPg8vENL_6F56KMq9DJaoH2bRUEhBz\")"
      ],
      "metadata": {
        "colab": {
          "base_uri": "https://localhost:8080/"
        },
        "id": "PcZ-AlEfYCqy",
        "outputId": "b0b37cdb-f00c-40fe-c486-89104936539e"
      },
      "execution_count": 4,
      "outputs": [
        {
          "output_type": "stream",
          "name": "stdout",
          "text": []
        }
      ]
    },
    {
      "cell_type": "code",
      "source": [
        "public_url = ngrok.connect(4040)\n",
        "print(f\"Access Spark UI at: {public_url}\")\n"
      ],
      "metadata": {
        "colab": {
          "base_uri": "https://localhost:8080/"
        },
        "id": "mCEIp-jaYBF9",
        "outputId": "75bae656-4bc6-462d-8dda-87d71c872f69"
      },
      "execution_count": 5,
      "outputs": [
        {
          "output_type": "stream",
          "name": "stderr",
          "text": [
            "WARNING:pyngrok.process.ngrok:t=2024-10-11T16:19:14+0000 lvl=warn msg=\"can't bind default web address, trying alternatives\" obj=web addr=127.0.0.1:4040\n"
          ]
        },
        {
          "output_type": "stream",
          "name": "stdout",
          "text": [
            "Access Spark UI at: NgrokTunnel: \"https://2d10-35-243-193-139.ngrok-free.app\" -> \"http://localhost:4040\"\n"
          ]
        }
      ]
    },
    {
      "cell_type": "code",
      "source": [
        "from pyspark import SparkContext\n",
        "import numpy as np\n",
        "\n",
        "# Initialize Spark context\n",
        "sc = SparkContext(\"local\", \"RandomNumberApp\")"
      ],
      "metadata": {
        "id": "w37WAp74aiVv"
      },
      "execution_count": 2,
      "outputs": []
    },
    {
      "cell_type": "code",
      "source": [],
      "metadata": {
        "id": "_EvA1AhDbW3i"
      },
      "execution_count": null,
      "outputs": []
    },
    {
      "cell_type": "code",
      "execution_count": 6,
      "metadata": {
        "id": "rgRNCBCWaRX6",
        "colab": {
          "base_uri": "https://localhost:8080/"
        },
        "outputId": "b1068807-090d-4e1d-cd99-b94ab4a0e0a3"
      },
      "outputs": [
        {
          "output_type": "execute_result",
          "data": {
            "text/plain": [
              "ParallelCollectionRDD[1] at readRDDFromFile at PythonRDD.scala:289"
            ]
          },
          "metadata": {},
          "execution_count": 6
        }
      ],
      "source": [
        "\n",
        "\n",
        "import numpy as np\n",
        "\n",
        "random_numbers = sc.parallelize([np.random.rand() for _ in range(1000)], 4)\n",
        "random_numbers"
      ]
    },
    {
      "cell_type": "code",
      "execution_count": 7,
      "metadata": {
        "id": "sJalDv7PaRYH",
        "outputId": "1d808096-f94f-41f6-bc8a-90cbd2784206",
        "colab": {
          "base_uri": "https://localhost:8080/"
        }
      },
      "outputs": [
        {
          "output_type": "execute_result",
          "data": {
            "text/plain": [
              "[0.3321082205021352, 0.8924510055610154]"
            ]
          },
          "metadata": {},
          "execution_count": 7
        }
      ],
      "source": [
        "random_numbers.take(2)"
      ]
    },
    {
      "cell_type": "markdown",
      "metadata": {
        "id": "2h1sXrS6aRYK"
      },
      "source": [
        "#### Tuples"
      ]
    },
    {
      "cell_type": "code",
      "execution_count": 8,
      "metadata": {
        "id": "KucdEWjRaRYM",
        "outputId": "778443f5-5da5-46ca-ffc3-dd9d749e34fd",
        "colab": {
          "base_uri": "https://localhost:8080/"
        }
      },
      "outputs": [
        {
          "output_type": "execute_result",
          "data": {
            "text/plain": [
              "[('Mark', 43, '6\\'1\"'), ('Stella', 23, '5\\'6\"')]"
            ]
          },
          "metadata": {},
          "execution_count": 8
        }
      ],
      "source": [
        "rdd_random_tuples = sc.parallelize([\n",
        "      (\"Mark\",  43, \"6'1\\\"\")\n",
        "    , (\"Stella\",23, \"5'6\\\"\")\n",
        "    , (\"Skye\",   6, \"3'11\\\"\")\n",
        "    , (\"Albert\", 1, \"2'7\\\"\")\n",
        "])\n",
        "rdd_random_tuples.take(2)"
      ]
    },
    {
      "cell_type": "markdown",
      "metadata": {
        "id": "fqFhBBOaaRYO"
      },
      "source": [
        "### Reading from files\n",
        "The `sample_data.csv` was created based on the data found here: http://www.contextures.com/xlSampleData01.html."
      ]
    },
    {
      "cell_type": "code",
      "source": [
        "from google.colab import drive\n",
        "drive.mount('/content/drive')"
      ],
      "metadata": {
        "colab": {
          "base_uri": "https://localhost:8080/"
        },
        "id": "dv6C3cHBaN9S",
        "outputId": "028c04bd-2095-43ec-e488-91139ce66e10"
      },
      "execution_count": 10,
      "outputs": [
        {
          "output_type": "stream",
          "name": "stdout",
          "text": [
            "Mounted at /content/drive\n"
          ]
        }
      ]
    },
    {
      "cell_type": "code",
      "source": [
        "!ls /content/drive/MyDrive/learningsparkdata"
      ],
      "metadata": {
        "colab": {
          "base_uri": "https://localhost:8080/"
        },
        "id": "ycajsUnea0fV",
        "outputId": "b64e228e-90bd-49a6-9e85-07889d5108cd"
      },
      "execution_count": 11,
      "outputs": [
        {
          "output_type": "stream",
          "name": "stdout",
          "text": [
            "births_train.csv  births_train.csv.gz  ccFraud.csv  ccFraud.csv.gz  sample_data.csv\n"
          ]
        }
      ]
    },
    {
      "cell_type": "code",
      "source": [],
      "metadata": {
        "id": "AG3GUfOca0jB"
      },
      "execution_count": null,
      "outputs": []
    },
    {
      "cell_type": "code",
      "source": [],
      "metadata": {
        "id": "JHloFhPpa0mq"
      },
      "execution_count": null,
      "outputs": []
    },
    {
      "cell_type": "code",
      "execution_count": 12,
      "metadata": {
        "id": "3iv4WZsWaRYQ",
        "outputId": "d48f891b-261b-4a37-8cff-3330754ab542",
        "colab": {
          "base_uri": "https://localhost:8080/"
        }
      },
      "outputs": [
        {
          "output_type": "execute_result",
          "data": {
            "text/plain": [
              "['OrderDate,Region,Rep,Item,Units,UnitCost,Total',\n",
              " '1/6/16,East,Jones,Pencil,95,1.99,189.05']"
            ]
          },
          "metadata": {},
          "execution_count": 12
        }
      ],
      "source": [
        "rdd_from_file = sc.textFile('/content/drive/MyDrive/learningsparkdata/sample_data.csv', 4)\n",
        "rdd_from_file.take(2)"
      ]
    },
    {
      "cell_type": "markdown",
      "metadata": {
        "id": "TsIBa8QUaRYS"
      },
      "source": [
        "## Schema of an RDD\n",
        "### Structured data"
      ]
    },
    {
      "cell_type": "code",
      "execution_count": 13,
      "metadata": {
        "collapsed": true,
        "id": "GhJq1XIUaRYU"
      },
      "outputs": [],
      "source": [
        "rdd_valid_structured = sc.parallelize([\n",
        "      ('Tom', 0)\n",
        "    , ('Spark', 1)\n",
        "])"
      ]
    },
    {
      "cell_type": "markdown",
      "metadata": {
        "id": "63Y6tU-daRYU"
      },
      "source": [
        "### Unstructured data\n",
        "Sample Linux log data, source: https://www.cyberciti.biz/faq/linux-log-files-location-and-how-do-i-view-logs-files/"
      ]
    },
    {
      "cell_type": "code",
      "execution_count": 14,
      "metadata": {
        "collapsed": true,
        "id": "W4jYtZ_xaRYV"
      },
      "outputs": [],
      "source": [
        "rdd_valid_unstructured = sc.parallelize([\n",
        "      ('Jul 17 22:04:25 router  dnsprobe[276]: dns query failed')\n",
        "    , ('Jul 17 22:04:29 router last message repeated 2 times')\n",
        "    , ('Jul 17 22:04:29 router  dnsprobe[276]: Primary DNS server Is Down... Switching To Secondary DNS server')\n",
        "    , ('Jul 17 22:05:08 router  dnsprobe[276]: Switching Back To Primary DNS server')\n",
        "    , ('Jul 17 22:26:11 debian -- MARK --')\n",
        "    , ('Jul 17 22:46:11 debian -- MARK --')\n",
        "    , ('Jul 17 22:47:36 router  -- MARK --')\n",
        "    , ('Jul 17 22:47:36 router  dnsprobe[276]: dns query failed')\n",
        "])"
      ]
    },
    {
      "cell_type": "markdown",
      "metadata": {
        "id": "wWR2aGmWaRYV"
      },
      "source": [
        "### Heterogeneous data"
      ]
    },
    {
      "cell_type": "code",
      "execution_count": 15,
      "metadata": {
        "collapsed": true,
        "id": "CgvGtxxLaRYV"
      },
      "outputs": [],
      "source": [
        "rdd_valid_heterogeneous = sc.parallelize([\n",
        "      ('Toll invoice number', 'TRE2321')\n",
        "    , {'Last bill balance': 0.00, 'New bill balance': 23.92}\n",
        "    , ['2017-11-12 12:32:34PM', '2017-11-14 1:32:56PM']\n",
        "])"
      ]
    },
    {
      "cell_type": "markdown",
      "metadata": {
        "id": "OiKc3oORaRYW"
      },
      "source": [
        "## Understanding lazy execution"
      ]
    },
    {
      "cell_type": "code",
      "execution_count": 16,
      "metadata": {
        "collapsed": true,
        "id": "pM4FnNYKaRYW"
      },
      "outputs": [],
      "source": [
        "names_only = rdd_valid_structured.map(lambda element: element[0])"
      ]
    },
    {
      "cell_type": "code",
      "execution_count": 17,
      "metadata": {
        "id": "1aaNAM7HaRYW",
        "colab": {
          "base_uri": "https://localhost:8080/"
        },
        "outputId": "28e3f7b9-f9cf-4313-ea0d-199a75c1fe93"
      },
      "outputs": [
        {
          "output_type": "execute_result",
          "data": {
            "text/plain": [
              "['Tom', 'Spark']"
            ]
          },
          "metadata": {},
          "execution_count": 17
        }
      ],
      "source": [
        "names_only.collect()"
      ]
    },
    {
      "cell_type": "markdown",
      "metadata": {
        "id": "eUmSM1oaaRYX"
      },
      "source": [
        "## .map(...) transformation\n",
        "### Using lambdas"
      ]
    },
    {
      "cell_type": "code",
      "execution_count": 18,
      "metadata": {
        "id": "ppE-UE1baRYX",
        "outputId": "11ba39ee-7f52-44e0-a8ce-e46f274746f3",
        "colab": {
          "base_uri": "https://localhost:8080/"
        }
      },
      "outputs": [
        {
          "output_type": "stream",
          "name": "stdout",
          "text": [
            "['OrderDate', 'Region', 'Rep', 'Item', 'Units', 'UnitCost', 'Total']\n",
            "['1/6/16', 'East', 'Jones', 'Pencil', '95', '1.99', '189.05']\n"
          ]
        }
      ],
      "source": [
        "def splitOnComma(inputString):\n",
        "    return inputString.split(',')\n",
        "\n",
        "for el in rdd_from_file.map(splitOnComma).take(2):\n",
        "    print(el)"
      ]
    },
    {
      "cell_type": "code",
      "execution_count": 19,
      "metadata": {
        "id": "CDpKxREXaRYY",
        "outputId": "8b422870-bbe6-4a32-bd8a-59bdee27e702",
        "colab": {
          "base_uri": "https://localhost:8080/"
        }
      },
      "outputs": [
        {
          "output_type": "stream",
          "name": "stdout",
          "text": [
            "['OrderDate', 'Region', 'Rep', 'Item', 'Units', 'UnitCost', 'Total']\n",
            "['1/6/16', 'East', 'Jones', 'Pencil', '95', '1.99', '189.05']\n"
          ]
        }
      ],
      "source": [
        "for el in rdd_from_file.map(lambda element: element.split(',')).take(2):\n",
        "    print(el)"
      ]
    },
    {
      "cell_type": "markdown",
      "metadata": {
        "id": "P8iLzaeeaRYY"
      },
      "source": [
        "### Transforming data"
      ]
    },
    {
      "cell_type": "code",
      "execution_count": 21,
      "metadata": {
        "id": "sZisHJq5aRYY",
        "outputId": "36884a77-8879-4382-ac41-ef1ba02aaddb",
        "colab": {
          "base_uri": "https://localhost:8080/"
        }
      },
      "outputs": [
        {
          "output_type": "execute_result",
          "data": {
            "text/plain": [
              "[['OrderDate', 'Region', 'Rep', 'Item', -666, -666, -666],\n",
              " ['1/6/16', 'East', 'Jones', 'Pencil', 95.0, 1.99, 189.05]]"
            ]
          },
          "metadata": {},
          "execution_count": 21
        }
      ],
      "source": [
        "def convertToFloat(inputString):\n",
        "    try:\n",
        "        return float(inputString)\n",
        "    except:\n",
        "        return -666\n",
        "\n",
        "to_filter = rdd_from_file \\\n",
        "    .map(lambda element: element.split(',')) \\\n",
        "    .map(lambda element:\n",
        "         [e for e in element[:4]] +\n",
        "         [convertToFloat(e) for e in element[4:]]\n",
        "    )\n",
        "\n",
        "to_filter.take(2)"
      ]
    },
    {
      "cell_type": "markdown",
      "metadata": {
        "id": "gYAKKp-HaRYZ"
      },
      "source": [
        "## .filter(...) transformation"
      ]
    },
    {
      "cell_type": "code",
      "execution_count": 22,
      "metadata": {
        "id": "AySIDANIaRYZ",
        "outputId": "eae65630-2c8f-43c6-d430-b9cd8600299f",
        "colab": {
          "base_uri": "https://localhost:8080/"
        }
      },
      "outputs": [
        {
          "output_type": "execute_result",
          "data": {
            "text/plain": [
              "[['1/6/16', 'East', 'Jones', 'Pencil', 95.0, 1.99, 189.05],\n",
              " ['2017-03-02', 'Central', 'Kivell', 'Binder', 50.0, 19.99, 999.5]]"
            ]
          },
          "metadata": {},
          "execution_count": 22
        }
      ],
      "source": [
        "filtered = to_filter.filter(lambda element: element[4] != -666)\n",
        "filtered.take(2)"
      ]
    },
    {
      "cell_type": "markdown",
      "metadata": {
        "id": "owBUl3eBaRYa"
      },
      "source": [
        "## .flatMap(...) transformation\n",
        "### .map to flatMap comparison"
      ]
    },
    {
      "cell_type": "code",
      "execution_count": 23,
      "metadata": {
        "id": "UcQFgtsqaRYa",
        "outputId": "0fc258b6-54b9-4781-cc3b-20e49e523cf8",
        "colab": {
          "base_uri": "https://localhost:8080/"
        }
      },
      "outputs": [
        {
          "output_type": "stream",
          "name": "stdout",
          "text": [
            "[[1, 30], [2, 40], [3, 50], [4, 60]]\n",
            "[1, 30, 2, 40, 3, 50, 4, 60]\n"
          ]
        }
      ],
      "source": [
        "def mapExample(inputList):\n",
        "    outputList = []\n",
        "\n",
        "    for item in inputList:\n",
        "        temp = item.copy()\n",
        "        temp[1] *= 10\n",
        "\n",
        "        outputList.append(temp)\n",
        "    return outputList\n",
        "\n",
        "def flatMapExample(inputList):\n",
        "    outputList = []\n",
        "\n",
        "    for item in inputList:\n",
        "        temp = item.copy()\n",
        "        temp[1] *= 10\n",
        "\n",
        "        outputList += temp\n",
        "\n",
        "    return outputList\n",
        "\n",
        "sampleList = [\n",
        "      [1, 3]\n",
        "    , [2, 4]\n",
        "    , [3, 5]\n",
        "    , [4, 6]\n",
        "]\n",
        "\n",
        "print(mapExample(sampleList))\n",
        "print(flatMapExample(sampleList))"
      ]
    },
    {
      "cell_type": "markdown",
      "metadata": {
        "id": "dX0-6xV8aRYb"
      },
      "source": [
        "### Filtering malformed records"
      ]
    },
    {
      "cell_type": "code",
      "execution_count": 24,
      "metadata": {
        "id": "-E1NtljLaRYb",
        "outputId": "ea206da4-1138-42d7-c2fc-6aefbd3fc05e",
        "colab": {
          "base_uri": "https://localhost:8080/"
        }
      },
      "outputs": [
        {
          "output_type": "execute_result",
          "data": {
            "text/plain": [
              "[[],\n",
              " [[datetime.datetime(2016, 1, 6, 0, 0),\n",
              "   'East',\n",
              "   'Jones',\n",
              "   'Pencil',\n",
              "   95,\n",
              "   1.99,\n",
              "   189.05]],\n",
              " []]"
            ]
          },
          "metadata": {},
          "execution_count": 24
        }
      ],
      "source": [
        "import datetime as dt\n",
        "\n",
        "def parseCSVRow(inputRow):\n",
        "    try:\n",
        "        rowSplit = inputRow.split(',')\n",
        "        rowSplit[0] = dt.datetime.strptime(rowSplit[0], '%m/%d/%y')\n",
        "        rowSplit[4] = int(rowSplit[4])\n",
        "\n",
        "        for i in [5,6]:\n",
        "            rowSplit[i] = float(rowSplit[i])\n",
        "\n",
        "        return [rowSplit]\n",
        "    except:\n",
        "        return []\n",
        "\n",
        "rdd_from_file.map(parseCSVRow).take(3)"
      ]
    },
    {
      "cell_type": "code",
      "execution_count": 25,
      "metadata": {
        "id": "KA3mc-gbaRYc",
        "outputId": "cb5099a6-650c-4ee3-a452-dcff435a9303",
        "colab": {
          "base_uri": "https://localhost:8080/"
        }
      },
      "outputs": [
        {
          "output_type": "execute_result",
          "data": {
            "text/plain": [
              "[[[datetime.datetime(2016, 1, 6, 0, 0),\n",
              "   'East',\n",
              "   'Jones',\n",
              "   'Pencil',\n",
              "   95,\n",
              "   1.99,\n",
              "   189.05]],\n",
              " [[datetime.datetime(2016, 2, 9, 0, 0),\n",
              "   'Central',\n",
              "   'Jardine',\n",
              "   'Pencil',\n",
              "   36,\n",
              "   4.99,\n",
              "   179.64]],\n",
              " [[datetime.datetime(2016, 2, 26, 0, 0),\n",
              "   'Central',\n",
              "   'Gill',\n",
              "   'Pen',\n",
              "   27,\n",
              "   19.99,\n",
              "   539.73]]]"
            ]
          },
          "metadata": {},
          "execution_count": 25
        }
      ],
      "source": [
        "rdd_from_file.map(parseCSVRow).filter(lambda element: len(element) > 0).take(3)"
      ]
    },
    {
      "cell_type": "code",
      "execution_count": 28,
      "metadata": {
        "id": "31p5En17aRYc",
        "outputId": "a25b46b4-9cbf-447c-a2f4-c9a034fc42ec",
        "colab": {
          "base_uri": "https://localhost:8080/"
        }
      },
      "outputs": [
        {
          "output_type": "execute_result",
          "data": {
            "text/plain": [
              "[[datetime.datetime(2016, 1, 6, 0, 0),\n",
              "  'East',\n",
              "  'Jones',\n",
              "  'Pencil',\n",
              "  95,\n",
              "  1.99,\n",
              "  189.05],\n",
              " [datetime.datetime(2016, 2, 9, 0, 0),\n",
              "  'Central',\n",
              "  'Jardine',\n",
              "  'Pencil',\n",
              "  36,\n",
              "  4.99,\n",
              "  179.64],\n",
              " [datetime.datetime(2016, 2, 26, 0, 0),\n",
              "  'Central',\n",
              "  'Gill',\n",
              "  'Pen',\n",
              "  27,\n",
              "  19.99,\n",
              "  539.73]]"
            ]
          },
          "metadata": {},
          "execution_count": 28
        }
      ],
      "source": [
        "rdd_from_file_clean = rdd_from_file.flatMap(parseCSVRow)\n",
        "rdd_from_file_clean.take(3)"
      ]
    },
    {
      "cell_type": "markdown",
      "metadata": {
        "id": "UX6Cd0VEaRYd"
      },
      "source": [
        "## .distinct(...) transformation"
      ]
    },
    {
      "cell_type": "markdown",
      "metadata": {
        "id": "4tD-RhVhaRYd"
      },
      "source": [
        "### Understanding the distinct method"
      ]
    },
    {
      "cell_type": "code",
      "execution_count": 26,
      "metadata": {
        "id": "sBx9ZBdqaRYd",
        "outputId": "135afea6-a946-447a-9a55-27b70cd09255",
        "colab": {
          "base_uri": "https://localhost:8080/"
        }
      },
      "outputs": [
        {
          "output_type": "stream",
          "name": "stdout",
          "text": [
            "[1, 4, 3, 6, 8, 9]\n"
          ]
        }
      ],
      "source": [
        "sampleList = [1,1,1,4,3,4,6,4,8,6,9]\n",
        "\n",
        "distinct = []\n",
        "seen = {}\n",
        "\n",
        "for elem in sampleList:\n",
        "    if elem in seen:\n",
        "        continue\n",
        "    else:\n",
        "        distinct.append(elem)\n",
        "        seen[elem] = 1\n",
        "\n",
        "print(distinct)"
      ]
    },
    {
      "cell_type": "markdown",
      "metadata": {
        "id": "c_HYKIGmaRYe"
      },
      "source": [
        "### Finding distinct in RDD"
      ]
    },
    {
      "cell_type": "code",
      "execution_count": 29,
      "metadata": {
        "id": "WtFjumBsaRYf",
        "outputId": "1c35339f-0da1-47b1-fcc7-1e2be36158ca",
        "colab": {
          "base_uri": "https://localhost:8080/"
        }
      },
      "outputs": [
        {
          "output_type": "execute_result",
          "data": {
            "text/plain": [
              "['Desk', 'Pencil', 'Pen', 'Binder', 'Pen Set']"
            ]
          },
          "metadata": {},
          "execution_count": 29
        }
      ],
      "source": [
        "items = rdd_from_file_clean.map(lambda element: element[3]).distinct()\n",
        "items.collect()"
      ]
    },
    {
      "cell_type": "code",
      "execution_count": 30,
      "metadata": {
        "id": "6p5bxY3zaRYf",
        "outputId": "71169e61-e75a-4df9-86e5-e3c1029bd242",
        "colab": {
          "base_uri": "https://localhost:8080/"
        }
      },
      "outputs": [
        {
          "output_type": "execute_result",
          "data": {
            "text/plain": [
              "11"
            ]
          },
          "metadata": {},
          "execution_count": 30
        }
      ],
      "source": [
        "rdd_from_file_clean.map(lambda element: element[2]).distinct().count()"
      ]
    },
    {
      "cell_type": "markdown",
      "metadata": {
        "id": "lykMh00ZaRYg"
      },
      "source": [
        "## .sample(...) transformation"
      ]
    },
    {
      "cell_type": "code",
      "execution_count": 31,
      "metadata": {
        "id": "UcEPvEWzaRYg",
        "outputId": "6aae54b1-01a9-4207-c757-f6e8aee056a7",
        "colab": {
          "base_uri": "https://localhost:8080/"
        }
      },
      "outputs": [
        {
          "output_type": "execute_result",
          "data": {
            "text/plain": [
              "42"
            ]
          },
          "metadata": {},
          "execution_count": 31
        }
      ],
      "source": [
        "rdd_from_file_clean.count()"
      ]
    },
    {
      "cell_type": "code",
      "execution_count": 32,
      "metadata": {
        "id": "Pk-SB1NaaRYg",
        "outputId": "7ed78432-2995-41d6-fe43-09ff6a47fa41",
        "colab": {
          "base_uri": "https://localhost:8080/"
        }
      },
      "outputs": [
        {
          "output_type": "execute_result",
          "data": {
            "text/plain": [
              "8"
            ]
          },
          "metadata": {},
          "execution_count": 32
        }
      ],
      "source": [
        "rdd_from_file_clean.sample(False, 0.2).count()"
      ]
    },
    {
      "cell_type": "markdown",
      "metadata": {
        "id": "ui_h5vNZaRYt"
      },
      "source": [
        "## .join(...) transformation"
      ]
    },
    {
      "cell_type": "markdown",
      "metadata": {
        "id": "l9H6rfffaRYu"
      },
      "source": [
        "### The mechanics of join"
      ]
    },
    {
      "cell_type": "code",
      "execution_count": 33,
      "metadata": {
        "id": "b6SYEtOgaRYv",
        "outputId": "fd73a190-2354-4001-f646-67be307a38d5",
        "colab": {
          "base_uri": "https://localhost:8080/"
        }
      },
      "outputs": [
        {
          "output_type": "execute_result",
          "data": {
            "text/plain": [
              "[('b', (3, 4)), ('a', (2, 4))]"
            ]
          },
          "metadata": {},
          "execution_count": 33
        }
      ],
      "source": [
        "a = sc.parallelize([('a', 2), ('b', 3)])\n",
        "b = sc.parallelize([('a', 4), ('b', 4), ('c', 4)])\n",
        "\n",
        "a.join(b).collect()"
      ]
    },
    {
      "cell_type": "markdown",
      "metadata": {
        "id": "rhEGN4y0aRYv"
      },
      "source": [
        "### Append location"
      ]
    },
    {
      "cell_type": "code",
      "execution_count": 34,
      "metadata": {
        "id": "taf3C8EoaRYw",
        "outputId": "3a7ac38e-1bd7-499e-da0f-01ff054199b1",
        "colab": {
          "base_uri": "https://localhost:8080/"
        }
      },
      "outputs": [
        {
          "output_type": "execute_result",
          "data": {
            "text/plain": [
              "[[datetime.datetime(2016, 2, 9, 0, 0),\n",
              "  'Central',\n",
              "  'Jardine',\n",
              "  'Pencil',\n",
              "  36,\n",
              "  4.99,\n",
              "  179.64,\n",
              "  'Chicago'],\n",
              " [datetime.datetime(2016, 2, 26, 0, 0),\n",
              "  'Central',\n",
              "  'Gill',\n",
              "  'Pen',\n",
              "  27,\n",
              "  19.99,\n",
              "  539.73,\n",
              "  'Chicago']]"
            ]
          },
          "metadata": {},
          "execution_count": 34
        }
      ],
      "source": [
        "cities = sc.parallelize([\n",
        "      ('East', 'Boston')\n",
        "    , ('Central', 'Chicago')\n",
        "    , ('West', 'Seattle')\n",
        "])\n",
        "\n",
        "rdd_from_file_clean \\\n",
        "    .map(lambda element: (element[1], element)) \\\n",
        "    .join(cities) \\\n",
        "    .map(lambda element: element[1][0] + [element[1][1]]) \\\n",
        "    .take(2)"
      ]
    },
    {
      "cell_type": "markdown",
      "metadata": {
        "id": "PDIg2iOeaRYx"
      },
      "source": [
        "## .repartition(...) transformation"
      ]
    },
    {
      "cell_type": "code",
      "execution_count": 35,
      "metadata": {
        "id": "icdI0OhyaRYx",
        "outputId": "f4137700-5d79-4cb7-e832-52636f850fa1",
        "colab": {
          "base_uri": "https://localhost:8080/"
        }
      },
      "outputs": [
        {
          "output_type": "execute_result",
          "data": {
            "text/plain": [
              "4"
            ]
          },
          "metadata": {},
          "execution_count": 35
        }
      ],
      "source": [
        "rdd_from_file_clean.getNumPartitions()"
      ]
    },
    {
      "cell_type": "code",
      "execution_count": 36,
      "metadata": {
        "id": "YfVaKByYaRYy",
        "outputId": "06cb9244-54e5-4513-a470-a73620a51cff",
        "colab": {
          "base_uri": "https://localhost:8080/"
        }
      },
      "outputs": [
        {
          "output_type": "execute_result",
          "data": {
            "text/plain": [
              "2"
            ]
          },
          "metadata": {},
          "execution_count": 36
        }
      ],
      "source": [
        "rdd_from_file_repartitioned = rdd_from_file.repartition(2)\n",
        "rdd_from_file_repartitioned.getNumPartitions()"
      ]
    },
    {
      "cell_type": "code",
      "execution_count": 37,
      "metadata": {
        "id": "hx0RUdR1aRYz",
        "outputId": "e089bc82-3648-4ef0-d484-2b35fd87142e",
        "colab": {
          "base_uri": "https://localhost:8080/"
        }
      },
      "outputs": [
        {
          "output_type": "execute_result",
          "data": {
            "text/plain": [
              "[[(datetime.datetime(2017, 10, 31, 0, 0),\n",
              "   'Central',\n",
              "   'Andrews',\n",
              "   'Pencil',\n",
              "   14,\n",
              "   1.29,\n",
              "   18.06),\n",
              "  (datetime.datetime(2017, 11, 17, 0, 0),\n",
              "   'Central',\n",
              "   'Jardine',\n",
              "   'Binder',\n",
              "   11,\n",
              "   4.99,\n",
              "   54.89),\n",
              "  (datetime.datetime(2017, 5, 14, 0, 0),\n",
              "   'Central',\n",
              "   'Gill',\n",
              "   'Pencil',\n",
              "   53,\n",
              "   1.29,\n",
              "   68.37),\n",
              "  (datetime.datetime(2016, 12, 12, 0, 0),\n",
              "   'Central',\n",
              "   'Smith',\n",
              "   'Pencil',\n",
              "   67,\n",
              "   1.29,\n",
              "   86.43),\n",
              "  (datetime.datetime(2016, 8, 15, 0, 0),\n",
              "   'East',\n",
              "   'Jones',\n",
              "   'Pencil',\n",
              "   35,\n",
              "   4.99,\n",
              "   174.65),\n",
              "  (datetime.datetime(2016, 9, 1, 0, 0),\n",
              "   'Central',\n",
              "   'Smith',\n",
              "   'Desk',\n",
              "   2,\n",
              "   125.0,\n",
              "   250.0),\n",
              "  (datetime.datetime(2017, 7, 21, 0, 0),\n",
              "   'Central',\n",
              "   'Morgan',\n",
              "   'Pen Set',\n",
              "   55,\n",
              "   12.49,\n",
              "   686.95)],\n",
              " [(datetime.datetime(2017, 9, 10, 0, 0),\n",
              "   'Central',\n",
              "   'Gill',\n",
              "   'Pencil',\n",
              "   7,\n",
              "   1.29,\n",
              "   9.03),\n",
              "  (datetime.datetime(2017, 2, 18, 0, 0),\n",
              "   'East',\n",
              "   'Jones',\n",
              "   'Binder',\n",
              "   4,\n",
              "   4.99,\n",
              "   19.96),\n",
              "  (datetime.datetime(2016, 7, 12, 0, 0),\n",
              "   'East',\n",
              "   'Howard',\n",
              "   'Binder',\n",
              "   29,\n",
              "   1.99,\n",
              "   57.71),\n",
              "  (datetime.datetime(2016, 5, 22, 0, 0),\n",
              "   'West',\n",
              "   'Thompson',\n",
              "   'Pencil',\n",
              "   32,\n",
              "   1.99,\n",
              "   63.68),\n",
              "  (datetime.datetime(2017, 4, 10, 0, 0),\n",
              "   'Central',\n",
              "   'Andrews',\n",
              "   'Pencil',\n",
              "   66,\n",
              "   1.99,\n",
              "   131.34),\n",
              "  (datetime.datetime(2017, 3, 7, 0, 0),\n",
              "   'West',\n",
              "   'Sorvino',\n",
              "   'Binder',\n",
              "   7,\n",
              "   19.99,\n",
              "   139.93),\n",
              "  (datetime.datetime(2017, 12, 21, 0, 0),\n",
              "   'Central',\n",
              "   'Andrews',\n",
              "   'Binder',\n",
              "   28,\n",
              "   4.99,\n",
              "   139.72),\n",
              "  (datetime.datetime(2016, 4, 18, 0, 0),\n",
              "   'Central',\n",
              "   'Andrews',\n",
              "   'Pencil',\n",
              "   75,\n",
              "   1.99,\n",
              "   149.25),\n",
              "  (datetime.datetime(2017, 9, 27, 0, 0),\n",
              "   'West',\n",
              "   'Sorvino',\n",
              "   'Pen',\n",
              "   76,\n",
              "   1.99,\n",
              "   151.24),\n",
              "  (datetime.datetime(2016, 3, 15, 0, 0),\n",
              "   'West',\n",
              "   'Sorvino',\n",
              "   'Pencil',\n",
              "   56,\n",
              "   2.99,\n",
              "   167.44),\n",
              "  (datetime.datetime(2016, 2, 9, 0, 0),\n",
              "   'Central',\n",
              "   'Jardine',\n",
              "   'Pencil',\n",
              "   36,\n",
              "   4.99,\n",
              "   179.64),\n",
              "  (datetime.datetime(2016, 1, 6, 0, 0),\n",
              "   'East',\n",
              "   'Jones',\n",
              "   'Pencil',\n",
              "   95,\n",
              "   1.99,\n",
              "   189.05),\n",
              "  (datetime.datetime(2017, 3, 24, 0, 0),\n",
              "   'Central',\n",
              "   'Jardine',\n",
              "   'Pen Set',\n",
              "   50,\n",
              "   4.99,\n",
              "   249.5),\n",
              "  (datetime.datetime(2016, 10, 5, 0, 0),\n",
              "   'Central',\n",
              "   'Morgan',\n",
              "   'Binder',\n",
              "   28,\n",
              "   8.99,\n",
              "   251.72),\n",
              "  (datetime.datetime(2016, 9, 18, 0, 0),\n",
              "   'East',\n",
              "   'Jones',\n",
              "   'Pen Set',\n",
              "   16,\n",
              "   15.99,\n",
              "   255.84),\n",
              "  (datetime.datetime(2016, 4, 1, 0, 0),\n",
              "   'East',\n",
              "   'Jones',\n",
              "   'Binder',\n",
              "   60,\n",
              "   4.99,\n",
              "   299.4),\n",
              "  (datetime.datetime(2016, 11, 8, 0, 0),\n",
              "   'East',\n",
              "   'Parent',\n",
              "   'Pen',\n",
              "   15,\n",
              "   19.99,\n",
              "   299.85),\n",
              "  (datetime.datetime(2017, 7, 4, 0, 0),\n",
              "   'East',\n",
              "   'Jones',\n",
              "   'Pen Set',\n",
              "   62,\n",
              "   4.99,\n",
              "   309.38),\n",
              "  (datetime.datetime(2017, 1, 15, 0, 0),\n",
              "   'Central',\n",
              "   'Gill',\n",
              "   'Binder',\n",
              "   46,\n",
              "   8.99,\n",
              "   413.54),\n",
              "  (datetime.datetime(2016, 5, 5, 0, 0),\n",
              "   'Central',\n",
              "   'Jardine',\n",
              "   'Pencil',\n",
              "   90,\n",
              "   4.99,\n",
              "   449.1),\n",
              "  (datetime.datetime(2016, 6, 25, 0, 0),\n",
              "   'Central',\n",
              "   'Morgan',\n",
              "   'Pencil',\n",
              "   90,\n",
              "   4.99,\n",
              "   449.1),\n",
              "  (datetime.datetime(2016, 11, 25, 0, 0),\n",
              "   'Central',\n",
              "   'Kivell',\n",
              "   'Pen Set',\n",
              "   96,\n",
              "   4.99,\n",
              "   479.04),\n",
              "  (datetime.datetime(2017, 4, 27, 0, 0),\n",
              "   'East',\n",
              "   'Howard',\n",
              "   'Pen',\n",
              "   96,\n",
              "   4.99,\n",
              "   479.04),\n",
              "  (datetime.datetime(2016, 2, 26, 0, 0),\n",
              "   'Central',\n",
              "   'Gill',\n",
              "   'Pen',\n",
              "   27,\n",
              "   19.99,\n",
              "   539.73),\n",
              "  (datetime.datetime(2016, 6, 8, 0, 0),\n",
              "   'East',\n",
              "   'Jones',\n",
              "   'Binder',\n",
              "   60,\n",
              "   8.99,\n",
              "   539.4),\n",
              "  (datetime.datetime(2016, 10, 22, 0, 0),\n",
              "   'East',\n",
              "   'Jones',\n",
              "   'Pen',\n",
              "   64,\n",
              "   8.99,\n",
              "   575.36),\n",
              "  (datetime.datetime(2017, 6, 17, 0, 0),\n",
              "   'Central',\n",
              "   'Kivell',\n",
              "   'Desk',\n",
              "   5,\n",
              "   125.0,\n",
              "   625.0),\n",
              "  (datetime.datetime(2017, 5, 31, 0, 0),\n",
              "   'Central',\n",
              "   'Gill',\n",
              "   'Binder',\n",
              "   80,\n",
              "   8.99,\n",
              "   719.2),\n",
              "  (datetime.datetime(2017, 8, 24, 0, 0),\n",
              "   'West',\n",
              "   'Sorvino',\n",
              "   'Desk',\n",
              "   3,\n",
              "   275.0,\n",
              "   825.0),\n",
              "  (datetime.datetime(2017, 8, 7, 0, 0),\n",
              "   'Central',\n",
              "   'Kivell',\n",
              "   'Pen Set',\n",
              "   42,\n",
              "   23.95,\n",
              "   1005.9),\n",
              "  (datetime.datetime(2017, 10, 14, 0, 0),\n",
              "   'West',\n",
              "   'Thompson',\n",
              "   'Binder',\n",
              "   57,\n",
              "   19.99,\n",
              "   1139.43),\n",
              "  (datetime.datetime(2016, 12, 29, 0, 0),\n",
              "   'East',\n",
              "   'Parent',\n",
              "   'Pen Set',\n",
              "   74,\n",
              "   15.99,\n",
              "   1183.26),\n",
              "  (datetime.datetime(2017, 2, 1, 0, 0),\n",
              "   'Central',\n",
              "   'Smith',\n",
              "   'Binder',\n",
              "   87,\n",
              "   15.0,\n",
              "   1305.0),\n",
              "  (datetime.datetime(2016, 7, 29, 0, 0),\n",
              "   'East',\n",
              "   'Parent',\n",
              "   'Binder',\n",
              "   81,\n",
              "   19.99,\n",
              "   1619.19),\n",
              "  (datetime.datetime(2017, 12, 4, 0, 0),\n",
              "   'Central',\n",
              "   'Jardine',\n",
              "   'Binder',\n",
              "   94,\n",
              "   19.99,\n",
              "   1879.06)]]"
            ]
          },
          "metadata": {},
          "execution_count": 37
        }
      ],
      "source": [
        "rdd_from_file_repartitioned_sorted = rdd_from_file_clean \\\n",
        "    .map(lambda element: (int(element[6]), element)) \\\n",
        "    .repartitionAndSortWithinPartitions(2, lambda x: x) \\\n",
        "    .map(lambda element: tuple(element[1]))\n",
        "\n",
        "rdd_from_file_repartitioned_sorted.glom() \\\n",
        "    .collect()"
      ]
    },
    {
      "cell_type": "code",
      "execution_count": null,
      "metadata": {
        "id": "E0o4Muj6aRY0"
      },
      "outputs": [],
      "source": [
        "rdd_from_file_repartitioned_sorted.getNumPartitions()"
      ]
    }
  ],
  "metadata": {
    "kernelspec": {
      "display_name": "PySpark",
      "language": "",
      "name": "pysparkkernel"
    },
    "language_info": {
      "codemirror_mode": {
        "name": "python",
        "version": 2
      },
      "mimetype": "text/x-python",
      "name": "pyspark",
      "pygments_lexer": "python2"
    },
    "colab": {
      "provenance": [],
      "include_colab_link": true
    }
  },
  "nbformat": 4,
  "nbformat_minor": 0
}