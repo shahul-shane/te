{
  "cells": [
    {
      "cell_type": "markdown",
      "metadata": {
        "id": "view-in-github",
        "colab_type": "text"
      },
      "source": [
        "<a href=\"https://colab.research.google.com/github/kareemullah123456789/1112232/blob/master/Section_3_Resilient_Distributed_Datasets_Actions.ipynb\" target=\"_parent\"><img src=\"https://colab.research.google.com/assets/colab-badge.svg\" alt=\"Open In Colab\"/></a>"
      ]
    },
    {
      "cell_type": "markdown",
      "metadata": {
        "id": "Y6Lggk-xka9b"
      },
      "source": [
        "# Learning PySpark\n",
        "### Video series\n",
        "\n",
        "### Packt Publishing\n",
        "\n",
        "**Author**: Tomasz Drabas\n",
        "**Date**:   2017-12-10\n",
        "\n",
        "\n",
        "\n",
        "\n",
        "\n",
        "# Section 3: Resilient Distributed Datasets - Actions\n",
        "\n",
        "In this section we will look at the Resilient Distributed Datasets (RDDs) and the actions available.\n",
        "\n",
        "## Read in the data"
      ]
    },
    {
      "cell_type": "code",
      "source": [
        "from google.colab import drive\n",
        "drive.mount('/content/drive/')"
      ],
      "metadata": {
        "colab": {
          "base_uri": "https://localhost:8080/"
        },
        "id": "c2teIp1ukcO-",
        "outputId": "578dc656-fab5-4ada-9d95-20e8cc032e17"
      },
      "execution_count": 1,
      "outputs": [
        {
          "output_type": "stream",
          "name": "stdout",
          "text": [
            "Mounted at /content/drive/\n"
          ]
        }
      ]
    },
    {
      "cell_type": "code",
      "source": [
        "!ls /content/drive/MyDrive/learningsparkdata/"
      ],
      "metadata": {
        "colab": {
          "base_uri": "https://localhost:8080/"
        },
        "id": "g4usiMfck0Bn",
        "outputId": "7024ff28-c793-47cd-806d-6c3227b59442"
      },
      "execution_count": 3,
      "outputs": [
        {
          "output_type": "stream",
          "name": "stdout",
          "text": [
            "births_train.csv  births_train.csv.gz  ccFraud.csv  ccFraud.csv.gz  sample_data.csv\n"
          ]
        }
      ]
    },
    {
      "cell_type": "code",
      "source": [],
      "metadata": {
        "id": "EE5UnzITk0FY"
      },
      "execution_count": null,
      "outputs": []
    },
    {
      "cell_type": "code",
      "execution_count": 5,
      "metadata": {
        "colab": {
          "base_uri": "https://localhost:8080/"
        },
        "id": "k0u9-gK1ka-R",
        "outputId": "61a81e57-0d31-47a2-c0c4-d7b5b8c7580e"
      },
      "outputs": [
        {
          "output_type": "stream",
          "name": "stdout",
          "text": [
            "OrderDate,Region,Rep,Item,Units,UnitCost,Total\r\n",
            "1/6/16,East,Jones,Pencil,95,1.99,189.05\r\n"
          ]
        }
      ],
      "source": [
        "%%sh\n",
        "head -n 2 /content/drive/MyDrive/learningsparkdata/sample_data.csv"
      ]
    },
    {
      "cell_type": "code",
      "source": [
        "!pip install pyspark --quiet\n",
        "!pip install pyngrok"
      ],
      "metadata": {
        "colab": {
          "base_uri": "https://localhost:8080/"
        },
        "id": "cNyx6IyZl-GA",
        "outputId": "e16c2f26-864f-4c8f-c6e8-254565ee0438"
      },
      "execution_count": 8,
      "outputs": [
        {
          "output_type": "stream",
          "name": "stdout",
          "text": [
            "\u001b[2K     \u001b[90m━━━━━━━━━━━━━━━━━━━━━━━━━━━━━━━━━━━━━━━━\u001b[0m \u001b[32m317.3/317.3 MB\u001b[0m \u001b[31m4.1 MB/s\u001b[0m eta \u001b[36m0:00:00\u001b[0m\n",
            "\u001b[?25h  Preparing metadata (setup.py) ... \u001b[?25l\u001b[?25hdone\n",
            "  Building wheel for pyspark (setup.py) ... \u001b[?25l\u001b[?25hdone\n",
            "Collecting pyngrok\n",
            "  Downloading pyngrok-7.2.0-py3-none-any.whl.metadata (7.4 kB)\n",
            "Requirement already satisfied: PyYAML>=5.1 in /usr/local/lib/python3.10/dist-packages (from pyngrok) (6.0.2)\n",
            "Downloading pyngrok-7.2.0-py3-none-any.whl (22 kB)\n",
            "Installing collected packages: pyngrok\n",
            "Successfully installed pyngrok-7.2.0\n"
          ]
        }
      ]
    },
    {
      "cell_type": "code",
      "source": [
        "from pyspark import SparkContext\n",
        "import numpy as np\n",
        "\n",
        "# Initialize Spark context\n",
        "sc = SparkContext(\"local\", \"section3\")"
      ],
      "metadata": {
        "id": "vGGD1p55lqX8"
      },
      "execution_count": 9,
      "outputs": []
    },
    {
      "cell_type": "code",
      "execution_count": 10,
      "metadata": {
        "id": "huXN5q5Ska-b"
      },
      "outputs": [],
      "source": [
        "import datetime as dt\n",
        "\n",
        "def parseCSVRow(inputRow):\n",
        "    try:\n",
        "        rowSplit = inputRow.split(',')\n",
        "        rowSplit[0] = dt.datetime.strptime(rowSplit[0], '%m/%d/%y')\n",
        "        rowSplit[4] = int(rowSplit[4])\n",
        "\n",
        "        for i in [5,6]:\n",
        "            rowSplit[i] = float(rowSplit[i])\n",
        "\n",
        "        return [rowSplit]\n",
        "    except:\n",
        "        return []\n",
        "\n",
        "rdd_clean = sc.textFile('/content/drive/MyDrive/learningsparkdata/sample_data.csv', 4) \\\n",
        "    .flatMap(parseCSVRow)"
      ]
    },
    {
      "cell_type": "markdown",
      "metadata": {
        "id": "021FjXCPka-g"
      },
      "source": [
        "## .take(...) action"
      ]
    },
    {
      "cell_type": "code",
      "execution_count": 11,
      "metadata": {
        "collapsed": true,
        "colab": {
          "base_uri": "https://localhost:8080/"
        },
        "id": "nF4ZlIuwka-i",
        "outputId": "43486ac4-427e-4bb9-9a9c-9b43584a8247"
      },
      "outputs": [
        {
          "output_type": "execute_result",
          "data": {
            "text/plain": [
              "[[datetime.datetime(2016, 1, 6, 0, 0),\n",
              "  'East',\n",
              "  'Jones',\n",
              "  'Pencil',\n",
              "  95,\n",
              "  1.99,\n",
              "  189.05],\n",
              " [datetime.datetime(2016, 2, 9, 0, 0),\n",
              "  'Central',\n",
              "  'Jardine',\n",
              "  'Pencil',\n",
              "  36,\n",
              "  4.99,\n",
              "  179.64]]"
            ]
          },
          "metadata": {},
          "execution_count": 11
        }
      ],
      "source": [
        "rdd_clean.take(2)"
      ]
    },
    {
      "cell_type": "code",
      "execution_count": 12,
      "metadata": {
        "collapsed": true,
        "colab": {
          "base_uri": "https://localhost:8080/"
        },
        "id": "xnZeoE2mka-j",
        "outputId": "b5d3d50b-de9f-4b32-941e-1865c73408fe"
      },
      "outputs": [
        {
          "output_type": "stream",
          "name": "stdout",
          "text": [
            "[datetime.datetime(2016, 1, 6, 0, 0), 'East', 'Jones', 'Pencil', 95, 1.99, 189.05]\n",
            "[datetime.datetime(2016, 2, 9, 0, 0), 'Central', 'Jardine', 'Pencil', 36, 4.99, 179.64]\n",
            "[datetime.datetime(2016, 2, 26, 0, 0), 'Central', 'Gill', 'Pen', 27, 19.99, 539.73]\n",
            "[datetime.datetime(2016, 3, 15, 0, 0), 'West', 'Sorvino', 'Pencil', 56, 2.99, 167.44]\n",
            "[datetime.datetime(2016, 4, 1, 0, 0), 'East', 'Jones', 'Binder', 60, 4.99, 299.4]\n"
          ]
        }
      ],
      "source": [
        "for element in rdd_clean.takeOrdered(5, key = lambda el: el[0]):\n",
        "    print(element)"
      ]
    },
    {
      "cell_type": "code",
      "execution_count": 13,
      "metadata": {
        "collapsed": true,
        "colab": {
          "base_uri": "https://localhost:8080/"
        },
        "id": "mE9zKD-4ka-n",
        "outputId": "e6adec96-88cc-44dc-b683-ed65727bb977"
      },
      "outputs": [
        {
          "output_type": "stream",
          "name": "stdout",
          "text": [
            "[datetime.datetime(2017, 12, 21, 0, 0), 'Central', 'Andrews', 'Binder', 28, 4.99, 139.72]\n",
            "[datetime.datetime(2017, 6, 17, 0, 0), 'Central', 'Kivell', 'Desk', 5, 125.0, 625.0]\n",
            "[datetime.datetime(2016, 9, 18, 0, 0), 'East', 'Jones', 'Pen Set', 16, 15.99, 255.84]\n",
            "[datetime.datetime(2017, 2, 1, 0, 0), 'Central', 'Smith', 'Binder', 87, 15.0, 1305.0]\n",
            "[datetime.datetime(2016, 4, 18, 0, 0), 'Central', 'Andrews', 'Pencil', 75, 1.99, 149.25]\n"
          ]
        }
      ],
      "source": [
        "for element in rdd_clean.takeSample(False, 5, seed=667):\n",
        "    print(element)"
      ]
    },
    {
      "cell_type": "markdown",
      "metadata": {
        "id": "OAljiEFaka-q"
      },
      "source": [
        "## .collect(...) action"
      ]
    },
    {
      "cell_type": "code",
      "execution_count": 14,
      "metadata": {
        "colab": {
          "base_uri": "https://localhost:8080/"
        },
        "id": "l9Ik41AOka-t",
        "outputId": "9510e6bf-ae95-4916-ade7-b993685652bb"
      },
      "outputs": [
        {
          "output_type": "execute_result",
          "data": {
            "text/plain": [
              "True"
            ]
          },
          "metadata": {},
          "execution_count": 14
        }
      ],
      "source": [
        "len(rdd_clean.collect()) == rdd_clean.count()"
      ]
    },
    {
      "cell_type": "code",
      "execution_count": 15,
      "metadata": {
        "colab": {
          "base_uri": "https://localhost:8080/"
        },
        "id": "V-mEjnfOka-v",
        "outputId": "e6d8134a-b067-4f9f-a807-14d1edaf8e3d"
      },
      "outputs": [
        {
          "output_type": "stream",
          "name": "stdout",
          "text": [
            "[datetime.datetime(2016, 7, 29, 0, 0), 'East', 'Parent', 'Binder', 81, 19.99, 1619.19]\n",
            "[datetime.datetime(2016, 12, 29, 0, 0), 'East', 'Parent', 'Pen Set', 74, 15.99, 1183.26]\n",
            "[datetime.datetime(2017, 2, 1, 0, 0), 'Central', 'Smith', 'Binder', 87, 15.0, 1305.0]\n",
            "[datetime.datetime(2017, 8, 7, 0, 0), 'Central', 'Kivell', 'Pen Set', 42, 23.95, 1005.9]\n",
            "[datetime.datetime(2017, 10, 14, 0, 0), 'West', 'Thompson', 'Binder', 57, 19.99, 1139.43]\n",
            "[datetime.datetime(2017, 12, 4, 0, 0), 'Central', 'Jardine', 'Binder', 94, 19.99, 1879.06]\n"
          ]
        }
      ],
      "source": [
        "for element in rdd_clean.filter(lambda el: el[-1] > 1000).collect():\n",
        "    print(element)"
      ]
    },
    {
      "cell_type": "markdown",
      "metadata": {
        "id": "wraSJhf9ka-x"
      },
      "source": [
        "## .reduce(...) action"
      ]
    },
    {
      "cell_type": "code",
      "execution_count": 16,
      "metadata": {
        "colab": {
          "base_uri": "https://localhost:8080/"
        },
        "id": "UApRu_SZka-y",
        "outputId": "d8a1297f-8e09-42b1-c488-ec90a196c7f9"
      },
      "outputs": [
        {
          "output_type": "execute_result",
          "data": {
            "text/plain": [
              "18628.38"
            ]
          },
          "metadata": {},
          "execution_count": 16
        }
      ],
      "source": [
        "from operator import add\n",
        "\n",
        "total_value = rdd_clean \\\n",
        "    .map(lambda el: el[-1]) \\\n",
        "    .reduce(add)\n",
        "\n",
        "total_value"
      ]
    },
    {
      "cell_type": "code",
      "execution_count": 18,
      "metadata": {
        "colab": {
          "base_uri": "https://localhost:8080/"
        },
        "id": "PKLLG8N6ka-0",
        "outputId": "d554553e-e639-4171-b7b4-5b680974fbd8"
      },
      "outputs": [
        {
          "output_type": "execute_result",
          "data": {
            "text/plain": [
              "18628.38"
            ]
          },
          "metadata": {},
          "execution_count": 18
        }
      ],
      "source": [
        "total_value = rdd_clean \\\n",
        "    .map(lambda el: el[-1]) \\\n",
        "    .reduce(lambda x, y: x + y)\n",
        "\n",
        "total_value"
      ]
    },
    {
      "cell_type": "markdown",
      "metadata": {
        "id": "RUmWiAS0ka-3"
      },
      "source": [
        "## .reduceByKey(...) action"
      ]
    },
    {
      "cell_type": "code",
      "execution_count": 19,
      "metadata": {
        "colab": {
          "base_uri": "https://localhost:8080/"
        },
        "id": "pZ5wMxfaka-5",
        "outputId": "112f214e-7942-46db-d291-eccc94afe4f3"
      },
      "outputs": [
        {
          "output_type": "stream",
          "name": "stdout",
          "text": [
            "('East', 6002.090000000001)\n",
            "('Central', 10139.57)\n",
            "('West', 2486.7200000000003)\n"
          ]
        }
      ],
      "source": [
        "sales_by_region = rdd_clean \\\n",
        "    .map(lambda el: (el[1], el[-1])) \\\n",
        "    .reduceByKey(lambda x, y: x + y)\n",
        "\n",
        "for element in sales_by_region.collect():\n",
        "    print(element)"
      ]
    },
    {
      "cell_type": "markdown",
      "metadata": {
        "id": "_PV0Dd2Fka-6"
      },
      "source": [
        "## .count() action"
      ]
    },
    {
      "cell_type": "code",
      "execution_count": 20,
      "metadata": {
        "colab": {
          "base_uri": "https://localhost:8080/"
        },
        "id": "UUwn9Tueka-6",
        "outputId": "e6daae09-f680-495f-84ef-3e87ebeacd61"
      },
      "outputs": [
        {
          "output_type": "execute_result",
          "data": {
            "text/plain": [
              "42"
            ]
          },
          "metadata": {},
          "execution_count": 20
        }
      ],
      "source": [
        "rdd_clean.count()"
      ]
    },
    {
      "cell_type": "code",
      "execution_count": 21,
      "metadata": {
        "colab": {
          "base_uri": "https://localhost:8080/"
        },
        "id": "V53Gp53Kka-7",
        "outputId": "3460e224-b956-4aed-f308-fb219f1298f2"
      },
      "outputs": [
        {
          "output_type": "execute_result",
          "data": {
            "text/plain": [
              "42"
            ]
          },
          "metadata": {},
          "execution_count": 21
        }
      ],
      "source": [
        "rdd_clean.countApprox(10, confidence=0.9)"
      ]
    },
    {
      "cell_type": "code",
      "execution_count": 22,
      "metadata": {
        "colab": {
          "base_uri": "https://localhost:8080/"
        },
        "id": "-tNrrEJJka-8",
        "outputId": "11d5af52-02ce-4e26-9ee3-ee881338f9f3"
      },
      "outputs": [
        {
          "output_type": "execute_result",
          "data": {
            "text/plain": [
              "11"
            ]
          },
          "metadata": {},
          "execution_count": 22
        }
      ],
      "source": [
        "sales = rdd_clean \\\n",
        "    .map(lambda el: el[2])\n",
        "\n",
        "sales.countApproxDistinct()"
      ]
    },
    {
      "cell_type": "code",
      "execution_count": 23,
      "metadata": {
        "colab": {
          "base_uri": "https://localhost:8080/"
        },
        "id": "qcDSWUDtka--",
        "outputId": "a4de2e81-227d-4bf1-a26a-2bbc0409cf85"
      },
      "outputs": [
        {
          "output_type": "execute_result",
          "data": {
            "text/plain": [
              "11"
            ]
          },
          "metadata": {},
          "execution_count": 23
        }
      ],
      "source": [
        "sales.distinct().count()"
      ]
    },
    {
      "cell_type": "markdown",
      "metadata": {
        "id": "oXVXkTylka--"
      },
      "source": [
        "## .foreach(...) action"
      ]
    },
    {
      "cell_type": "code",
      "execution_count": 24,
      "metadata": {
        "collapsed": true,
        "id": "x9tm7-6Bka-_"
      },
      "outputs": [],
      "source": [
        "distinct_sales = sales.distinct()\n",
        "distinct_sales.foreach(print)"
      ]
    },
    {
      "cell_type": "markdown",
      "metadata": {
        "id": "v4Hkl1k5ka-_"
      },
      "source": [
        "## .aggregate(...) action"
      ]
    },
    {
      "cell_type": "code",
      "execution_count": 25,
      "metadata": {
        "colab": {
          "base_uri": "https://localhost:8080/"
        },
        "id": "SZRu_jBzka_A",
        "outputId": "feab7e46-3486-4b6f-99eb-90d1f23bc561"
      },
      "outputs": [
        {
          "output_type": "execute_result",
          "data": {
            "text/plain": [
              "(18628.38, 42)"
            ]
          },
          "metadata": {},
          "execution_count": 25
        }
      ],
      "source": [
        "seqOp =  (lambda x, y: (x[0] + y,    x[1] + 1))\n",
        "combOp = (lambda x, y: (x[0] + y[0], x[1] + y[1]))\n",
        "\n",
        "rdd_clean \\\n",
        "    .map(lambda el: el[-1]) \\\n",
        "    .aggregate((0.0,0), seqOp, combOp)"
      ]
    },
    {
      "cell_type": "markdown",
      "metadata": {
        "id": "U0Hb6BHtka_B"
      },
      "source": [
        "## .aggregateByKey(...) action"
      ]
    },
    {
      "cell_type": "code",
      "execution_count": 26,
      "metadata": {
        "colab": {
          "base_uri": "https://localhost:8080/"
        },
        "id": "M_4hsUToka_B",
        "outputId": "3d71f640-ba25-4958-fcdd-59c7fccd8251"
      },
      "outputs": [
        {
          "output_type": "stream",
          "name": "stdout",
          "text": [
            "('Jardine', 2812.19, 5, 562.438)\n",
            "('Gill', 1749.8700000000001, 5, 349.97400000000005)\n",
            "('Thompson', 1203.1100000000001, 2, 601.5550000000001)\n",
            "('Howard', 536.75, 2, 268.375)\n",
            "('Smith', 1641.43, 3, 547.1433333333333)\n",
            "('Jones', 2363.04, 8, 295.38)\n",
            "('Sorvino', 1283.6100000000001, 4, 320.90250000000003)\n",
            "('Andrews', 438.37, 4, 109.5925)\n",
            "('Morgan', 1387.77, 3, 462.59)\n",
            "('Parent', 3102.3, 3, 1034.1000000000001)\n",
            "('Kivell', 2109.94, 3, 703.3133333333334)\n"
          ]
        }
      ],
      "source": [
        "seqOp =  (lambda x, y: (x[0] + y[0], x[1] + y[1]))\n",
        "combOp = (lambda x, y: (x[0] + y[0], x[1] + y[1]))\n",
        "\n",
        "for element in rdd_clean \\\n",
        "    .map(lambda el: (el[2], (el[-1], 1))) \\\n",
        "    .aggregateByKey((0.0, 0), seqOp, combOp) \\\n",
        "    .map(lambda el: (el[0], el[1][0], el[1][1], el[1][0] / el[1][1])) \\\n",
        "    .collect():\n",
        "        print(element)"
      ]
    },
    {
      "cell_type": "markdown",
      "metadata": {
        "id": "G81dPBQyka_C"
      },
      "source": [
        "## .coalesce(...) action"
      ]
    },
    {
      "cell_type": "code",
      "execution_count": 27,
      "metadata": {
        "colab": {
          "base_uri": "https://localhost:8080/"
        },
        "id": "1BmVsxXika_C",
        "outputId": "de112cd0-2d5b-43c7-ded0-e64d7e37a146"
      },
      "outputs": [
        {
          "output_type": "execute_result",
          "data": {
            "text/plain": [
              "4"
            ]
          },
          "metadata": {},
          "execution_count": 27
        }
      ],
      "source": [
        "rdd_clean.getNumPartitions()"
      ]
    },
    {
      "cell_type": "code",
      "execution_count": 28,
      "metadata": {
        "colab": {
          "base_uri": "https://localhost:8080/"
        },
        "id": "nyt1yKbPka_D",
        "outputId": "47db5db6-4e64-45dd-b184-e5d010ffe522"
      },
      "outputs": [
        {
          "output_type": "execute_result",
          "data": {
            "text/plain": [
              "1"
            ]
          },
          "metadata": {},
          "execution_count": 28
        }
      ],
      "source": [
        "rdd_single = rdd_clean.coalesce(1)\n",
        "rdd_single.getNumPartitions()"
      ]
    },
    {
      "cell_type": "markdown",
      "metadata": {
        "id": "4uYG6eMxka_D"
      },
      "source": [
        "## .combineByKey(...) action"
      ]
    },
    {
      "cell_type": "code",
      "execution_count": 29,
      "metadata": {
        "colab": {
          "base_uri": "https://localhost:8080/"
        },
        "id": "cEivzWOoka_E",
        "outputId": "c8099852-f4e6-4dca-cc28-56df76d1a6cb"
      },
      "outputs": [
        {
          "output_type": "stream",
          "name": "stdout",
          "text": [
            "('Jardine', [('Pencil', 449.1), ('Pen Set', 249.5), ('Binder', 1933.95)])\n",
            "('Gill', [('Pen', 539.73), ('Binder', 1132.74), ('Pencil', 77.4)])\n",
            "('Thompson', [('Pencil', 63.68), ('Binder', 1139.43)])\n",
            "('Howard', [('Binder', 57.71), ('Pen', 479.04)])\n",
            "('Smith', [('Desk', 250.0), ('Pencil', 86.43), ('Binder', 1305.0)])\n",
            "('Jones', [('Pencil', 363.70000000000005), ('Binder', 559.36), ('Pen Set', 565.22), ('Pen', 575.36)])\n",
            "('Sorvino', [('Pencil', 167.44), ('Binder', 139.93), ('Desk', 825.0), ('Pen', 151.24)])\n",
            "('Andrews', [('Pencil', 298.65000000000003), ('Binder', 139.72)])\n",
            "('Morgan', [('Pencil', 449.1), ('Binder', 251.72), ('Pen Set', 686.95)])\n",
            "('Parent', [('Binder', 1619.19), ('Pen', 299.85), ('Pen Set', 1183.26)])\n",
            "('Kivell', [('Pen Set', 1484.94), ('Desk', 625.0)])\n"
          ]
        }
      ],
      "source": [
        "def combiner(element):\n",
        "    return [element]\n",
        "\n",
        "def valueMerger(element1, element2):\n",
        "    element1.append(element2)\n",
        "    return element1\n",
        "\n",
        "def combinerMerger(element1, element2):\n",
        "    el1 = dict(element1)\n",
        "\n",
        "    for e in element2:\n",
        "        if e[0] not in el1:\n",
        "            el1[e[0]] = 0\n",
        "\n",
        "        el1[e[0]] += e[1]\n",
        "\n",
        "    return list(el1.items())\n",
        "\n",
        "for element in rdd_clean \\\n",
        "    .map(lambda el: (el[2], (el[3], el[-1]))) \\\n",
        "    .combineByKey(combiner, valueMerger, combinerMerger) \\\n",
        "    .collect():\n",
        "        print(element)"
      ]
    },
    {
      "cell_type": "markdown",
      "metadata": {
        "id": "A5M6ZXtaka_F"
      },
      "source": [
        "## .histogram(...) action"
      ]
    },
    {
      "cell_type": "code",
      "execution_count": 30,
      "metadata": {
        "colab": {
          "base_uri": "https://localhost:8080/"
        },
        "id": "NQAOaNlMka_H",
        "outputId": "877d2292-e9ee-48f9-b82e-4a2d858b0765"
      },
      "outputs": [
        {
          "output_type": "stream",
          "name": "stdout",
          "text": [
            "(9.0, 17)\n",
            "(196.0, 7)\n",
            "(383.0, 7)\n",
            "(570.0, 4)\n",
            "(757.0, 1)\n",
            "(944.0, 1)\n",
            "(1131.0, 3)\n",
            "(1318.0, 0)\n",
            "(1505.0, 1)\n",
            "(1692.0, 1)\n"
          ]
        }
      ],
      "source": [
        "hist = rdd_clean \\\n",
        "    .map(lambda el: el[-1]) \\\n",
        "    .histogram(10)\n",
        "\n",
        "for bucket in [(round(b, 0), v) for b, v in zip(hist[0], hist[1])]:\n",
        "    print(bucket)"
      ]
    },
    {
      "cell_type": "markdown",
      "metadata": {
        "id": "5fgTTNZrka_I"
      },
      "source": [
        "## Sorting data\n",
        "\n",
        "### sortBy(...) action"
      ]
    },
    {
      "cell_type": "code",
      "execution_count": 31,
      "metadata": {
        "colab": {
          "base_uri": "https://localhost:8080/"
        },
        "id": "qt3Ry3pNka_J",
        "outputId": "301a4931-e35d-4567-e583-8bcb7200b97e"
      },
      "outputs": [
        {
          "output_type": "stream",
          "name": "stdout",
          "text": [
            "('Jardine', '2017-12', 'Central', 1879.06)\n",
            "('Parent', '2016-07', 'East', 1619.19)\n",
            "('Smith', '2017-02', 'Central', 1305.0)\n",
            "('Parent', '2016-12', 'East', 1183.26)\n",
            "('Thompson', '2017-10', 'West', 1139.43)\n"
          ]
        }
      ],
      "source": [
        "for element in rdd_clean \\\n",
        "    .map(lambda el: (el[2], el[0].strftime('%Y-%m'), el[1], el[-1])) \\\n",
        "    .sortBy(lambda el: el[-1], ascending = False) \\\n",
        "    .take(5):\n",
        "        print(element)\n",
        ""
      ]
    },
    {
      "cell_type": "markdown",
      "metadata": {
        "id": "GB475ix-ka_O"
      },
      "source": [
        "### sortByKey(...) action"
      ]
    },
    {
      "cell_type": "code",
      "execution_count": 32,
      "metadata": {
        "colab": {
          "base_uri": "https://localhost:8080/"
        },
        "id": "79qOp79Rka_P",
        "outputId": "54fcc856-48b3-4fea-a495-4e2a02945bd4"
      },
      "outputs": [
        {
          "output_type": "stream",
          "name": "stdout",
          "text": [
            "(1879.06, ('Jardine', '2017-12', 'Central'))\n",
            "(1619.19, ('Parent', '2016-07', 'East'))\n",
            "(1305.0, ('Smith', '2017-02', 'Central'))\n",
            "(1183.26, ('Parent', '2016-12', 'East'))\n",
            "(1139.43, ('Thompson', '2017-10', 'West'))\n"
          ]
        }
      ],
      "source": [
        "for element in rdd_clean \\\n",
        "    .map(lambda el: (el[-1], (el[2], el[0].strftime('%Y-%m'), el[1]))) \\\n",
        "    .sortByKey(ascending = False) \\\n",
        "    .take(5):\n",
        "        print(element)"
      ]
    },
    {
      "cell_type": "markdown",
      "metadata": {
        "id": "ULGNXxbtka_P"
      },
      "source": [
        "## Saving data\n",
        "\n",
        "### .saveAsTextFile(...) action"
      ]
    },
    {
      "cell_type": "code",
      "execution_count": null,
      "metadata": {
        "collapsed": true,
        "id": "2ad5wUQOka_Q"
      },
      "outputs": [],
      "source": [
        "%%sh\n",
        "rm -rf ../data/sample_data_cleaned.csv"
      ]
    },
    {
      "cell_type": "code",
      "execution_count": null,
      "metadata": {
        "collapsed": true,
        "id": "j_lNzT3ika_j"
      },
      "outputs": [],
      "source": [
        "rdd_clean.saveAsTextFile('../data/sample_data_cleaned.csv')"
      ]
    },
    {
      "cell_type": "code",
      "execution_count": null,
      "metadata": {
        "id": "bKe7hsuhka_k",
        "outputId": "7f031305-417c-4466-80f2-9e6b5ddf710a"
      },
      "outputs": [
        {
          "name": "stdout",
          "output_type": "stream",
          "text": [
            "total 8\n",
            "drwxr-xr-x   5 drabast  staff   160 Jan  9 22:30 .\n",
            "drwxr-xr-x  12 drabast  staff   384 Dec 15 00:00 ..\n",
            "-rw-r--r--@  1 drabast  staff  1927 Dec 15 21:56 sample_data.csv\n",
            "drwxr-xr-x  12 drabast  staff   384 Jan  9 22:30 sample_data_cleaned.csv\n",
            "drwxr-xr-x  12 drabast  staff   384 Jan  8 22:23 sample_data_cleaned.pkl\n"
          ]
        }
      ],
      "source": [
        "%%sh\n",
        "ls -la ../data"
      ]
    },
    {
      "cell_type": "code",
      "execution_count": null,
      "metadata": {
        "id": "zvpYeIelka_l",
        "outputId": "9827a7c6-9633-4a6b-bfdc-86c5d74b5409"
      },
      "outputs": [
        {
          "name": "stdout",
          "output_type": "stream",
          "text": [
            "total 72\n",
            "drwxr-xr-x  12 drabast  staff   384 Jan  9 22:30 .\n",
            "drwxr-xr-x   5 drabast  staff   160 Jan  9 22:30 ..\n",
            "-rw-r--r--   1 drabast  staff     8 Jan  9 22:30 ._SUCCESS.crc\n",
            "-rw-r--r--   1 drabast  staff    16 Jan  9 22:30 .part-00000.crc\n",
            "-rw-r--r--   1 drabast  staff    20 Jan  9 22:30 .part-00001.crc\n",
            "-rw-r--r--   1 drabast  staff    16 Jan  9 22:30 .part-00002.crc\n",
            "-rw-r--r--   1 drabast  staff    16 Jan  9 22:30 .part-00003.crc\n",
            "-rw-r--r--   1 drabast  staff     0 Jan  9 22:30 _SUCCESS\n",
            "-rw-r--r--   1 drabast  staff   767 Jan  9 22:30 part-00000\n",
            "-rw-r--r--   1 drabast  staff  1030 Jan  9 22:30 part-00001\n",
            "-rw-r--r--   1 drabast  staff   938 Jan  9 22:30 part-00002\n",
            "-rw-r--r--   1 drabast  staff   877 Jan  9 22:30 part-00003\n"
          ]
        }
      ],
      "source": [
        "%%sh\n",
        "ls -la ../data/sample_data_cleaned.csv"
      ]
    },
    {
      "cell_type": "code",
      "execution_count": null,
      "metadata": {
        "collapsed": true,
        "id": "hXb1Q84lka_l"
      },
      "outputs": [],
      "source": [
        "%%sh\n",
        "rm -rf ../data/sample_data_cleaned_gzipped.csv"
      ]
    },
    {
      "cell_type": "code",
      "execution_count": null,
      "metadata": {
        "collapsed": true,
        "id": "_6n1jt_nka_m"
      },
      "outputs": [],
      "source": [
        "rdd_clean.saveAsTextFile(\n",
        "    '../data/sample_data_cleaned_gzipped.csv',\n",
        "    'org.apache.hadoop.io.compress.GzipCodec'\n",
        ")"
      ]
    },
    {
      "cell_type": "code",
      "execution_count": null,
      "metadata": {
        "id": "IuOW1Lb2ka_n",
        "outputId": "3a5dfde7-5d49-43c7-87e3-2f8bd24f8a4c"
      },
      "outputs": [
        {
          "name": "stdout",
          "output_type": "stream",
          "text": [
            "total 72\n",
            "drwxr-xr-x  12 drabast  staff  384 Jan  9 22:32 .\n",
            "drwxr-xr-x   6 drabast  staff  192 Jan  9 22:32 ..\n",
            "-rw-r--r--   1 drabast  staff    8 Jan  9 22:32 ._SUCCESS.crc\n",
            "-rw-r--r--   1 drabast  staff   12 Jan  9 22:32 .part-00000.gz.crc\n",
            "-rw-r--r--   1 drabast  staff   12 Jan  9 22:32 .part-00001.gz.crc\n",
            "-rw-r--r--   1 drabast  staff   12 Jan  9 22:32 .part-00002.gz.crc\n",
            "-rw-r--r--   1 drabast  staff   12 Jan  9 22:32 .part-00003.gz.crc\n",
            "-rw-r--r--   1 drabast  staff    0 Jan  9 22:32 _SUCCESS\n",
            "-rw-r--r--   1 drabast  staff  266 Jan  9 22:32 part-00000.gz\n",
            "-rw-r--r--   1 drabast  staff  328 Jan  9 22:32 part-00001.gz\n",
            "-rw-r--r--   1 drabast  staff  324 Jan  9 22:32 part-00002.gz\n",
            "-rw-r--r--   1 drabast  staff  311 Jan  9 22:32 part-00003.gz\n"
          ]
        }
      ],
      "source": [
        "%%sh\n",
        "ls -la ../data/sample_data_cleaned_gzipped.csv"
      ]
    },
    {
      "cell_type": "markdown",
      "metadata": {
        "id": "5h48yn7Mka_o"
      },
      "source": [
        "### .saveAsPickleFile(...) action"
      ]
    },
    {
      "cell_type": "code",
      "execution_count": null,
      "metadata": {
        "collapsed": true,
        "id": "DjFMba1xka_o"
      },
      "outputs": [],
      "source": [
        "%%sh\n",
        "rm -rf ../data/sample_data_cleaned.pkl"
      ]
    },
    {
      "cell_type": "code",
      "execution_count": null,
      "metadata": {
        "collapsed": true,
        "id": "4aaUV_zvka_q"
      },
      "outputs": [],
      "source": [
        "rdd_clean.saveAsPickleFile('../data/sample_data_cleaned.pkl')"
      ]
    },
    {
      "cell_type": "code",
      "execution_count": null,
      "metadata": {
        "id": "P-evfb1Vka_r",
        "outputId": "33eb6e1d-858a-421b-daee-cd0508021843"
      },
      "outputs": [
        {
          "name": "stdout",
          "output_type": "stream",
          "text": [
            "total 72\n",
            "drwxr-xr-x  12 drabast  staff   384 Jan  9 22:33 .\n",
            "drwxr-xr-x   6 drabast  staff   192 Jan  9 22:33 ..\n",
            "-rw-r--r--   1 drabast  staff     8 Jan  9 22:33 ._SUCCESS.crc\n",
            "-rw-r--r--   1 drabast  staff    16 Jan  9 22:33 .part-00000.crc\n",
            "-rw-r--r--   1 drabast  staff    20 Jan  9 22:33 .part-00001.crc\n",
            "-rw-r--r--   1 drabast  staff    20 Jan  9 22:33 .part-00002.crc\n",
            "-rw-r--r--   1 drabast  staff    20 Jan  9 22:33 .part-00003.crc\n",
            "-rw-r--r--   1 drabast  staff     0 Jan  9 22:33 _SUCCESS\n",
            "-rw-r--r--   1 drabast  staff   951 Jan  9 22:33 part-00000\n",
            "-rw-r--r--   1 drabast  staff  1235 Jan  9 22:33 part-00001\n",
            "-rw-r--r--   1 drabast  staff  1157 Jan  9 22:33 part-00002\n",
            "-rw-r--r--   1 drabast  staff  1049 Jan  9 22:33 part-00003\n"
          ]
        }
      ],
      "source": [
        "%%sh\n",
        "ls -la ../data/sample_data_cleaned.pkl"
      ]
    },
    {
      "cell_type": "markdown",
      "metadata": {
        "id": "9wT_w3nxka_s"
      },
      "source": [
        "## Descriptive Statistics"
      ]
    },
    {
      "cell_type": "code",
      "execution_count": null,
      "metadata": {
        "collapsed": true,
        "id": "j-3mHqsgka_t"
      },
      "outputs": [],
      "source": [
        "values = rdd_clean \\\n",
        "    .map(lambda el: el[-1])"
      ]
    },
    {
      "cell_type": "markdown",
      "metadata": {
        "id": "VBm-HM0tka_t"
      },
      "source": [
        "### .mean() action"
      ]
    },
    {
      "cell_type": "code",
      "execution_count": null,
      "metadata": {
        "id": "TFOOEKZaka_u",
        "outputId": "f61813d9-988d-4e24-da02-07a73f517ebe"
      },
      "outputs": [
        {
          "name": "stdout",
          "output_type": "stream",
          "text": [
            "443.53285714285715"
          ]
        }
      ],
      "source": [
        "values.mean()"
      ]
    },
    {
      "cell_type": "markdown",
      "metadata": {
        "id": "QAmjDEOvka_w"
      },
      "source": [
        "### .stdev() action"
      ]
    },
    {
      "cell_type": "code",
      "execution_count": null,
      "metadata": {
        "id": "AseHTx68ka_w",
        "outputId": "670ac814-34e9-4d8e-9edc-9a8a7f55cc9f"
      },
      "outputs": [
        {
          "name": "stdout",
          "output_type": "stream",
          "text": [
            "438.90819278819419"
          ]
        }
      ],
      "source": [
        "values.stdev()"
      ]
    },
    {
      "cell_type": "markdown",
      "metadata": {
        "id": "UA6CEpRxka_x"
      },
      "source": [
        "### .max() action"
      ]
    },
    {
      "cell_type": "code",
      "execution_count": null,
      "metadata": {
        "id": "pJB5UWB8ka_y",
        "outputId": "0ae77981-4438-4e8d-be3d-2428b8cfb6f3"
      },
      "outputs": [
        {
          "name": "stdout",
          "output_type": "stream",
          "text": [
            "1879.06"
          ]
        }
      ],
      "source": [
        "values.max()"
      ]
    },
    {
      "cell_type": "markdown",
      "metadata": {
        "id": "oWx1sygAka_z"
      },
      "source": [
        "### .min() action"
      ]
    },
    {
      "cell_type": "code",
      "execution_count": null,
      "metadata": {
        "id": "gaJ-1-cCka_0",
        "outputId": "be6acee2-9d07-471b-fd7e-39c84c0617a0"
      },
      "outputs": [
        {
          "name": "stdout",
          "output_type": "stream",
          "text": [
            "9.03"
          ]
        }
      ],
      "source": [
        "values.min()"
      ]
    }
  ],
  "metadata": {
    "kernelspec": {
      "display_name": "PySpark",
      "language": "",
      "name": "pysparkkernel"
    },
    "language_info": {
      "codemirror_mode": {
        "name": "python",
        "version": 2
      },
      "mimetype": "text/x-python",
      "name": "pyspark",
      "pygments_lexer": "python2"
    },
    "colab": {
      "provenance": [],
      "include_colab_link": true
    }
  },
  "nbformat": 4,
  "nbformat_minor": 0
}